{
 "cells": [
  {
   "cell_type": "code",
   "execution_count": 1,
   "id": "58cfcf03",
   "metadata": {},
   "outputs": [],
   "source": [
    "your_token = \"d\"\n"
   ]
  },
  {
   "cell_type": "code",
   "execution_count": null,
   "id": "2282c6df",
   "metadata": {},
   "outputs": [],
   "source": [
    "def store_github_credentials_for_later(username, token):\n",
    "    # tell github to use cred storage\n",
    "    !git config --global credential.helper store\n",
    "    \n",
    "    # other setup\n",
    "    !git config --global user.name f'\"{username}\"'\n",
    "    !git config --global user.email f'\"{username}\"'\n",
    "\n",
    "\n",
    "    # create cred file\n",
    "    import os\n",
    "    host = \"github.com\"\n",
    "    credential_line = f\"https://{username}:{token}@{host}\\n\"\n",
    "    cred_file = os.path.expanduser(\"~/.git-credentials\")\n",
    "    \n",
    "    with open(cred_file, \"w\") as f:\n",
    "        f.write(credential_line)\n",
    "\n",
    "store_github_credentials_for_later(\"drpawelo\", your_token)"
   ]
  },
  {
   "cell_type": "code",
   "execution_count": null,
   "id": "ccc1014c",
   "metadata": {},
   "outputs": [],
   "source": []
  }
 ],
 "metadata": {
  "kernelspec": {
   "display_name": "base",
   "language": "python",
   "name": "python3"
  },
  "language_info": {
   "codemirror_mode": {
    "name": "ipython",
    "version": 3
   },
   "file_extension": ".py",
   "mimetype": "text/x-python",
   "name": "python",
   "nbconvert_exporter": "python",
   "pygments_lexer": "ipython3",
   "version": "3.12.4"
  }
 },
 "nbformat": 4,
 "nbformat_minor": 5
}
